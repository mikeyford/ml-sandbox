{
 "cells": [
  {
   "cell_type": "code",
   "execution_count": 4,
   "metadata": {},
   "outputs": [],
   "source": [
    "from keras.layers import Input, Dense\n",
    "from keras.models import Model"
   ]
  },
  {
   "cell_type": "code",
   "execution_count": 5,
   "metadata": {},
   "outputs": [],
   "source": [
    "encoding_dim = 32"
   ]
  },
  {
   "cell_type": "code",
   "execution_count": 6,
   "metadata": {},
   "outputs": [],
   "source": [
    "input_img = Input(shape=(784,))\n",
    "encoded = Dense(encoding_dim, activation='relu')(input_img)\n",
    "decoded = Dense(784, activation='sigmoid')(encoded)"
   ]
  },
  {
   "cell_type": "code",
   "execution_count": 8,
   "metadata": {},
   "outputs": [],
   "source": [
    "# end-to-end reconstruction\n",
    "autoencoder = Model(input_img, decoded) \n",
    "\n",
    "# map input to encoded representation\n",
    "encoder = Model(input_img, encoded) \n",
    "\n",
    "# decode a representation\n",
    "encoded_input = Input(shape=(encoding_dim,))\n",
    "decoder_layer = autoencoder.layers[-1]\n",
    "decoder = Model(encoded_input, decoder_layer(encoded_input))"
   ]
  },
  {
   "cell_type": "code",
   "execution_count": 9,
   "metadata": {},
   "outputs": [],
   "source": [
    "autoencoder.compile(optimizer='adadelta', loss='binary_crossentropy')"
   ]
  },
  {
   "cell_type": "code",
   "execution_count": 10,
   "metadata": {},
   "outputs": [],
   "source": [
    "from keras.datasets import mnist\n",
    "import numpy as np\n",
    "(x_train, _), (x_test, _) = mnist.load_data()"
   ]
  },
  {
   "cell_type": "code",
   "execution_count": 12,
   "metadata": {},
   "outputs": [
    {
     "name": "stdout",
     "output_type": "stream",
     "text": [
      "(60000, 784)\n",
      "(10000, 784)\n"
     ]
    }
   ],
   "source": [
    "x_train = x_train.astype('float32') / 255.\n",
    "x_test = x_test.astype('float32') / 255.\n",
    "x_train = x_train.reshape((len(x_train), np.prod(x_train.shape[1:])))\n",
    "x_test = x_test.reshape((len(x_test), np.prod(x_test.shape[1:])))\n",
    "print(x_train.shape)\n",
    "print(x_test.shape)"
   ]
  },
  {
   "cell_type": "code",
   "execution_count": 13,
   "metadata": {},
   "outputs": [
    {
     "name": "stdout",
     "output_type": "stream",
     "text": [
      "Train on 60000 samples, validate on 10000 samples\n",
      "Epoch 1/50\n",
      "60000/60000 [==============================] - 4s 62us/step - loss: 0.3576 - val_loss: 0.2717\n",
      "Epoch 2/50\n",
      "60000/60000 [==============================] - 4s 59us/step - loss: 0.2653 - val_loss: 0.2547\n",
      "Epoch 3/50\n",
      "60000/60000 [==============================] - 4s 59us/step - loss: 0.2436 - val_loss: 0.2303\n",
      "Epoch 4/50\n",
      "60000/60000 [==============================] - 4s 59us/step - loss: 0.2224 - val_loss: 0.2123\n",
      "Epoch 5/50\n",
      "60000/60000 [==============================] - 4s 59us/step - loss: 0.2071 - val_loss: 0.1992\n",
      "Epoch 6/50\n",
      "60000/60000 [==============================] - 4s 59us/step - loss: 0.1958 - val_loss: 0.1895\n",
      "Epoch 7/50\n",
      "60000/60000 [==============================] - 4s 59us/step - loss: 0.1872 - val_loss: 0.1819\n",
      "Epoch 8/50\n",
      "60000/60000 [==============================] - 4s 59us/step - loss: 0.1802 - val_loss: 0.1753\n",
      "Epoch 9/50\n",
      "60000/60000 [==============================] - 4s 59us/step - loss: 0.1740 - val_loss: 0.1695\n",
      "Epoch 10/50\n",
      "60000/60000 [==============================] - 4s 59us/step - loss: 0.1686 - val_loss: 0.1646\n",
      "Epoch 11/50\n",
      "60000/60000 [==============================] - 4s 59us/step - loss: 0.1639 - val_loss: 0.1601\n",
      "Epoch 12/50\n",
      "60000/60000 [==============================] - 4s 59us/step - loss: 0.1598 - val_loss: 0.1563\n",
      "Epoch 13/50\n",
      "60000/60000 [==============================] - 4s 59us/step - loss: 0.1562 - val_loss: 0.1528\n",
      "Epoch 14/50\n",
      "60000/60000 [==============================] - 4s 59us/step - loss: 0.1529 - val_loss: 0.1497\n",
      "Epoch 15/50\n",
      "60000/60000 [==============================] - 4s 59us/step - loss: 0.1498 - val_loss: 0.1468\n",
      "Epoch 16/50\n",
      "60000/60000 [==============================] - 4s 59us/step - loss: 0.1469 - val_loss: 0.1440\n",
      "Epoch 17/50\n",
      "60000/60000 [==============================] - 4s 59us/step - loss: 0.1442 - val_loss: 0.1413\n",
      "Epoch 18/50\n",
      "60000/60000 [==============================] - 4s 59us/step - loss: 0.1416 - val_loss: 0.1389\n",
      "Epoch 19/50\n",
      "60000/60000 [==============================] - 4s 59us/step - loss: 0.1392 - val_loss: 0.1364\n",
      "Epoch 20/50\n",
      "60000/60000 [==============================] - 4s 59us/step - loss: 0.1368 - val_loss: 0.1342\n",
      "Epoch 21/50\n",
      "60000/60000 [==============================] - 4s 59us/step - loss: 0.1346 - val_loss: 0.1320\n",
      "Epoch 22/50\n",
      "60000/60000 [==============================] - 4s 58us/step - loss: 0.1325 - val_loss: 0.1299\n",
      "Epoch 23/50\n",
      "60000/60000 [==============================] - 4s 59us/step - loss: 0.1305 - val_loss: 0.1281\n",
      "Epoch 24/50\n",
      "60000/60000 [==============================] - 4s 59us/step - loss: 0.1286 - val_loss: 0.1262\n",
      "Epoch 25/50\n",
      "60000/60000 [==============================] - 4s 59us/step - loss: 0.1268 - val_loss: 0.1243\n",
      "Epoch 26/50\n",
      "60000/60000 [==============================] - 4s 59us/step - loss: 0.1251 - val_loss: 0.1226\n",
      "Epoch 27/50\n",
      "60000/60000 [==============================] - 4s 67us/step - loss: 0.1234 - val_loss: 0.1210\n",
      "Epoch 28/50\n",
      "60000/60000 [==============================] - 4s 59us/step - loss: 0.1218 - val_loss: 0.1195\n",
      "Epoch 29/50\n",
      "60000/60000 [==============================] - 4s 59us/step - loss: 0.1203 - val_loss: 0.1179\n",
      "Epoch 30/50\n",
      "60000/60000 [==============================] - 4s 59us/step - loss: 0.1188 - val_loss: 0.1165\n",
      "Epoch 31/50\n",
      "60000/60000 [==============================] - 3s 58us/step - loss: 0.1174 - val_loss: 0.1152\n",
      "Epoch 32/50\n",
      "60000/60000 [==============================] - 4s 58us/step - loss: 0.1161 - val_loss: 0.1139\n",
      "Epoch 33/50\n",
      "60000/60000 [==============================] - 4s 58us/step - loss: 0.1149 - val_loss: 0.1127\n",
      "Epoch 34/50\n",
      "60000/60000 [==============================] - 4s 59us/step - loss: 0.1138 - val_loss: 0.1116\n",
      "Epoch 35/50\n",
      "60000/60000 [==============================] - 4s 58us/step - loss: 0.1127 - val_loss: 0.1106\n",
      "Epoch 36/50\n",
      "60000/60000 [==============================] - 4s 58us/step - loss: 0.1117 - val_loss: 0.1096\n",
      "Epoch 37/50\n",
      "60000/60000 [==============================] - 3s 58us/step - loss: 0.1108 - val_loss: 0.1087\n",
      "Epoch 38/50\n",
      "60000/60000 [==============================] - 4s 59us/step - loss: 0.1099 - val_loss: 0.1078\n",
      "Epoch 39/50\n",
      "60000/60000 [==============================] - 4s 59us/step - loss: 0.1091 - val_loss: 0.1070\n",
      "Epoch 40/50\n",
      "60000/60000 [==============================] - 4s 59us/step - loss: 0.1083 - val_loss: 0.1063\n",
      "Epoch 41/50\n",
      "60000/60000 [==============================] - 4s 58us/step - loss: 0.1076 - val_loss: 0.1057\n",
      "Epoch 42/50\n",
      "60000/60000 [==============================] - 4s 58us/step - loss: 0.1070 - val_loss: 0.1050\n",
      "Epoch 43/50\n",
      "60000/60000 [==============================] - 4s 59us/step - loss: 0.1063 - val_loss: 0.1044\n",
      "Epoch 44/50\n",
      "60000/60000 [==============================] - 4s 58us/step - loss: 0.1058 - val_loss: 0.1039\n",
      "Epoch 45/50\n",
      "60000/60000 [==============================] - 4s 59us/step - loss: 0.1052 - val_loss: 0.1033\n",
      "Epoch 46/50\n",
      "60000/60000 [==============================] - 4s 59us/step - loss: 0.1047 - val_loss: 0.1029\n",
      "Epoch 47/50\n",
      "60000/60000 [==============================] - 4s 58us/step - loss: 0.1043 - val_loss: 0.1024\n",
      "Epoch 48/50\n",
      "60000/60000 [==============================] - 4s 59us/step - loss: 0.1038 - val_loss: 0.1020\n",
      "Epoch 49/50\n",
      "60000/60000 [==============================] - 4s 59us/step - loss: 0.1034 - val_loss: 0.1016\n",
      "Epoch 50/50\n",
      "60000/60000 [==============================] - 4s 59us/step - loss: 0.1030 - val_loss: 0.1012\n"
     ]
    },
    {
     "data": {
      "text/plain": [
       "<keras.callbacks.History at 0x7faf47c83ef0>"
      ]
     },
     "execution_count": 13,
     "metadata": {},
     "output_type": "execute_result"
    }
   ],
   "source": [
    "autoencoder.fit(x_train, x_train,\n",
    "                epochs=50,\n",
    "                batch_size=256,\n",
    "                shuffle=True,\n",
    "                validation_data=(x_test, x_test))"
   ]
  },
  {
   "cell_type": "code",
   "execution_count": null,
   "metadata": {},
   "outputs": [],
   "source": []
  }
 ],
 "metadata": {
  "kernelspec": {
   "display_name": "Python 3",
   "language": "python",
   "name": "python3"
  },
  "language_info": {
   "codemirror_mode": {
    "name": "ipython",
    "version": 3
   },
   "file_extension": ".py",
   "mimetype": "text/x-python",
   "name": "python",
   "nbconvert_exporter": "python",
   "pygments_lexer": "ipython3",
   "version": "3.6.4"
  }
 },
 "nbformat": 4,
 "nbformat_minor": 2
}
