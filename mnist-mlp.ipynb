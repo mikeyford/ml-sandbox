{
 "cells": [
  {
   "cell_type": "code",
   "execution_count": 7,
   "metadata": {},
   "outputs": [],
   "source": [
    "from sklearn.datasets import fetch_mldata\n",
    "mnist = fetch_mldata('MNIST original', data_home=\"~/mnist\")"
   ]
  },
  {
   "cell_type": "code",
   "execution_count": 77,
   "metadata": {},
   "outputs": [],
   "source": [
    "import pandas as pd\n",
    "\n",
    "import keras\n",
    "from keras.models import Sequential\n",
    "from keras.layers import Dense, Dropout\n",
    "from keras.optimizers import RMSprop"
   ]
  },
  {
   "cell_type": "code",
   "execution_count": 78,
   "metadata": {},
   "outputs": [],
   "source": [
    "df = pd.DataFrame(data=mnist.data)\n",
    "df['label'] = mnist.target\n",
    "X = df.sample(frac=1)\n",
    "y = X.pop('label')"
   ]
  },
  {
   "cell_type": "code",
   "execution_count": 79,
   "metadata": {},
   "outputs": [],
   "source": [
    "batch_size = 128\n",
    "num_classes = 10\n",
    "epochs = 20\n",
    "\n",
    "y = keras.utils.to_categorical(y, num_classes)"
   ]
  },
  {
   "cell_type": "code",
   "execution_count": 80,
   "metadata": {},
   "outputs": [
    {
     "data": {
      "text/plain": [
       "(70000, 784)"
      ]
     },
     "execution_count": 80,
     "metadata": {},
     "output_type": "execute_result"
    }
   ],
   "source": [
    "X.shape"
   ]
  },
  {
   "cell_type": "code",
   "execution_count": 81,
   "metadata": {},
   "outputs": [],
   "source": [
    "model = Sequential()\n",
    "model.add(Dense(512, activation='relu', input_shape=(784,)))\n",
    "model.add(Dropout(0.5))\n",
    "model.add(Dense(512, activation='relu'))\n",
    "model.add(Dropout(0.5))\n",
    "model.add(Dense(num_classes, activation='softmax'))"
   ]
  },
  {
   "cell_type": "code",
   "execution_count": 82,
   "metadata": {},
   "outputs": [
    {
     "name": "stdout",
     "output_type": "stream",
     "text": [
      "_________________________________________________________________\n",
      "Layer (type)                 Output Shape              Param #   \n",
      "=================================================================\n",
      "dense_32 (Dense)             (None, 512)               401920    \n",
      "_________________________________________________________________\n",
      "dropout_23 (Dropout)         (None, 512)               0         \n",
      "_________________________________________________________________\n",
      "dense_33 (Dense)             (None, 512)               262656    \n",
      "_________________________________________________________________\n",
      "dropout_24 (Dropout)         (None, 512)               0         \n",
      "_________________________________________________________________\n",
      "dense_34 (Dense)             (None, 10)                5130      \n",
      "=================================================================\n",
      "Total params: 669,706\n",
      "Trainable params: 669,706\n",
      "Non-trainable params: 0\n",
      "_________________________________________________________________\n"
     ]
    }
   ],
   "source": [
    "model.summary()"
   ]
  },
  {
   "cell_type": "code",
   "execution_count": 83,
   "metadata": {},
   "outputs": [],
   "source": [
    "model.compile(loss='categorical_crossentropy', optimizer='adam', metrics=['accuracy'])"
   ]
  },
  {
   "cell_type": "code",
   "execution_count": 84,
   "metadata": {},
   "outputs": [
    {
     "name": "stdout",
     "output_type": "stream",
     "text": [
      "Train on 56000 samples, validate on 14000 samples\n",
      "Epoch 1/20\n",
      "56000/56000 [==============================] - 7s 123us/step - loss: 8.5620 - acc: 0.4654 - val_loss: 6.6069 - val_acc: 0.5876\n",
      "Epoch 2/20\n",
      "56000/56000 [==============================] - 7s 117us/step - loss: 6.6878 - acc: 0.5834 - val_loss: 5.8426 - val_acc: 0.6368\n",
      "Epoch 3/20\n",
      "56000/56000 [==============================] - 6s 116us/step - loss: 6.4577 - acc: 0.5986 - val_loss: 5.4078 - val_acc: 0.6639\n",
      "Epoch 4/20\n",
      "56000/56000 [==============================] - 6s 114us/step - loss: 5.7041 - acc: 0.6453 - val_loss: 5.1819 - val_acc: 0.6779\n",
      "Epoch 5/20\n",
      "56000/56000 [==============================] - 7s 127us/step - loss: 5.7632 - acc: 0.6418 - val_loss: 4.6980 - val_acc: 0.7083\n",
      "Epoch 6/20\n",
      "56000/56000 [==============================] - 6s 114us/step - loss: 5.1145 - acc: 0.6824 - val_loss: 5.3510 - val_acc: 0.6678\n",
      "Epoch 7/20\n",
      "56000/56000 [==============================] - 6s 114us/step - loss: 5.4410 - acc: 0.6621 - val_loss: 4.3085 - val_acc: 0.7322\n",
      "Epoch 8/20\n",
      "56000/56000 [==============================] - 6s 114us/step - loss: 5.5683 - acc: 0.6543 - val_loss: 5.3059 - val_acc: 0.6705\n",
      "Epoch 9/20\n",
      "56000/56000 [==============================] - 6s 113us/step - loss: 5.3698 - acc: 0.6665 - val_loss: 5.4504 - val_acc: 0.6614\n",
      "Epoch 10/20\n",
      "56000/56000 [==============================] - 6s 113us/step - loss: 4.8956 - acc: 0.6960 - val_loss: 4.5387 - val_acc: 0.7183\n",
      "Epoch 11/20\n",
      "56000/56000 [==============================] - 6s 115us/step - loss: 4.8081 - acc: 0.7014 - val_loss: 4.6433 - val_acc: 0.7115\n",
      "Epoch 12/20\n",
      "56000/56000 [==============================] - 6s 113us/step - loss: 4.9451 - acc: 0.6930 - val_loss: 4.4138 - val_acc: 0.7261\n",
      "Epoch 13/20\n",
      "56000/56000 [==============================] - 6s 114us/step - loss: 5.1086 - acc: 0.6829 - val_loss: 4.2978 - val_acc: 0.7332\n",
      "Epoch 14/20\n",
      "56000/56000 [==============================] - 6s 114us/step - loss: 5.3523 - acc: 0.6677 - val_loss: 4.1331 - val_acc: 0.7436\n",
      "Epoch 15/20\n",
      "56000/56000 [==============================] - 6s 114us/step - loss: 4.7827 - acc: 0.7030 - val_loss: 4.4143 - val_acc: 0.7259\n",
      "Epoch 16/20\n",
      "56000/56000 [==============================] - 6s 114us/step - loss: 4.9484 - acc: 0.6928 - val_loss: 4.3351 - val_acc: 0.7309\n",
      "Epoch 17/20\n",
      "56000/56000 [==============================] - 6s 114us/step - loss: 4.7095 - acc: 0.7077 - val_loss: 3.7415 - val_acc: 0.7678\n",
      "Epoch 18/20\n",
      "56000/56000 [==============================] - 6s 114us/step - loss: 4.5228 - acc: 0.7192 - val_loss: 3.8214 - val_acc: 0.7629\n",
      "Epoch 19/20\n",
      "56000/56000 [==============================] - 6s 114us/step - loss: 4.6032 - acc: 0.7143 - val_loss: 4.0721 - val_acc: 0.7474\n",
      "Epoch 20/20\n",
      "56000/56000 [==============================] - 6s 115us/step - loss: 4.9199 - acc: 0.6946 - val_loss: 3.6831 - val_acc: 0.7714\n"
     ]
    },
    {
     "data": {
      "text/plain": [
       "<keras.callbacks.History at 0x7f1b496c7588>"
      ]
     },
     "execution_count": 84,
     "metadata": {},
     "output_type": "execute_result"
    }
   ],
   "source": [
    "model.fit(X, y, batch_size=batch_size, epochs=epochs, validation_split=0.2)"
   ]
  },
  {
   "cell_type": "code",
   "execution_count": null,
   "metadata": {},
   "outputs": [],
   "source": []
  }
 ],
 "metadata": {
  "kernelspec": {
   "display_name": "Python 3",
   "language": "python",
   "name": "python3"
  },
  "language_info": {
   "codemirror_mode": {
    "name": "ipython",
    "version": 3
   },
   "file_extension": ".py",
   "mimetype": "text/x-python",
   "name": "python",
   "nbconvert_exporter": "python",
   "pygments_lexer": "ipython3",
   "version": "3.6.5"
  }
 },
 "nbformat": 4,
 "nbformat_minor": 2
}
