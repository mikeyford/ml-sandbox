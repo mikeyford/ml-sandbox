{
 "cells": [
  {
   "cell_type": "code",
   "execution_count": 1,
   "metadata": {},
   "outputs": [],
   "source": [
    "import pandas as pd\n",
    "import numpy as np"
   ]
  },
  {
   "cell_type": "code",
   "execution_count": 2,
   "metadata": {},
   "outputs": [
    {
     "name": "stdout",
     "output_type": "stream",
     "text": [
      "(32256, 8)\n"
     ]
    }
   ],
   "source": [
    "df = pd.read_csv(\"gen_time_data.csv\")\n",
    "print(df.shape)"
   ]
  },
  {
   "cell_type": "markdown",
   "metadata": {},
   "source": [
    "This notebook uses a manually generated dataset to simulate seta of observations for individuala with some time dependency. Each user has 12 observations associated with it (e.g. months). The goal here is to demonstrate how to get data like this into the right format and set up a RNN to try and learn from it.\n",
    "\n",
    "The sequence that results in a positive y value is X5 is 1 in month 11, X3 is less than 0.6 in month 12, and the sum of X5 over months 6 to 12 is greater than 3. X1 and X2 are just noise. \n",
    "\n",
    "y is positive about 11% of the time for a user ID."
   ]
  },
  {
   "cell_type": "code",
   "execution_count": 3,
   "metadata": {},
   "outputs": [
    {
     "data": {
      "text/html": [
       "<div>\n",
       "<style scoped>\n",
       "    .dataframe tbody tr th:only-of-type {\n",
       "        vertical-align: middle;\n",
       "    }\n",
       "\n",
       "    .dataframe tbody tr th {\n",
       "        vertical-align: top;\n",
       "    }\n",
       "\n",
       "    .dataframe thead th {\n",
       "        text-align: right;\n",
       "    }\n",
       "</style>\n",
       "<table border=\"1\" class=\"dataframe\">\n",
       "  <thead>\n",
       "    <tr style=\"text-align: right;\">\n",
       "      <th></th>\n",
       "      <th>id</th>\n",
       "      <th>time</th>\n",
       "      <th>x1</th>\n",
       "      <th>x2</th>\n",
       "      <th>x3</th>\n",
       "      <th>x4</th>\n",
       "      <th>x5</th>\n",
       "      <th>y</th>\n",
       "    </tr>\n",
       "  </thead>\n",
       "  <tbody>\n",
       "    <tr>\n",
       "      <th>0</th>\n",
       "      <td>1</td>\n",
       "      <td>1</td>\n",
       "      <td>0.345220</td>\n",
       "      <td>0.827250</td>\n",
       "      <td>0.737033</td>\n",
       "      <td>1</td>\n",
       "      <td>1</td>\n",
       "      <td>1</td>\n",
       "    </tr>\n",
       "    <tr>\n",
       "      <th>1</th>\n",
       "      <td>1</td>\n",
       "      <td>2</td>\n",
       "      <td>0.802148</td>\n",
       "      <td>0.698895</td>\n",
       "      <td>0.528889</td>\n",
       "      <td>1</td>\n",
       "      <td>0</td>\n",
       "      <td>1</td>\n",
       "    </tr>\n",
       "    <tr>\n",
       "      <th>2</th>\n",
       "      <td>1</td>\n",
       "      <td>3</td>\n",
       "      <td>0.170504</td>\n",
       "      <td>0.085219</td>\n",
       "      <td>0.404662</td>\n",
       "      <td>1</td>\n",
       "      <td>0</td>\n",
       "      <td>1</td>\n",
       "    </tr>\n",
       "    <tr>\n",
       "      <th>3</th>\n",
       "      <td>1</td>\n",
       "      <td>4</td>\n",
       "      <td>0.427657</td>\n",
       "      <td>0.157935</td>\n",
       "      <td>0.495760</td>\n",
       "      <td>0</td>\n",
       "      <td>0</td>\n",
       "      <td>1</td>\n",
       "    </tr>\n",
       "    <tr>\n",
       "      <th>4</th>\n",
       "      <td>1</td>\n",
       "      <td>5</td>\n",
       "      <td>0.745276</td>\n",
       "      <td>0.231196</td>\n",
       "      <td>0.577447</td>\n",
       "      <td>1</td>\n",
       "      <td>1</td>\n",
       "      <td>1</td>\n",
       "    </tr>\n",
       "    <tr>\n",
       "      <th>5</th>\n",
       "      <td>1</td>\n",
       "      <td>6</td>\n",
       "      <td>0.175969</td>\n",
       "      <td>0.910015</td>\n",
       "      <td>0.444284</td>\n",
       "      <td>0</td>\n",
       "      <td>1</td>\n",
       "      <td>1</td>\n",
       "    </tr>\n",
       "    <tr>\n",
       "      <th>6</th>\n",
       "      <td>1</td>\n",
       "      <td>7</td>\n",
       "      <td>0.114116</td>\n",
       "      <td>0.053240</td>\n",
       "      <td>0.711894</td>\n",
       "      <td>0</td>\n",
       "      <td>0</td>\n",
       "      <td>1</td>\n",
       "    </tr>\n",
       "    <tr>\n",
       "      <th>7</th>\n",
       "      <td>1</td>\n",
       "      <td>8</td>\n",
       "      <td>0.999931</td>\n",
       "      <td>0.034291</td>\n",
       "      <td>0.830370</td>\n",
       "      <td>1</td>\n",
       "      <td>1</td>\n",
       "      <td>1</td>\n",
       "    </tr>\n",
       "    <tr>\n",
       "      <th>8</th>\n",
       "      <td>1</td>\n",
       "      <td>9</td>\n",
       "      <td>0.237785</td>\n",
       "      <td>0.816266</td>\n",
       "      <td>0.841942</td>\n",
       "      <td>1</td>\n",
       "      <td>1</td>\n",
       "      <td>1</td>\n",
       "    </tr>\n",
       "    <tr>\n",
       "      <th>9</th>\n",
       "      <td>1</td>\n",
       "      <td>10</td>\n",
       "      <td>0.171571</td>\n",
       "      <td>0.059315</td>\n",
       "      <td>0.829446</td>\n",
       "      <td>0</td>\n",
       "      <td>1</td>\n",
       "      <td>1</td>\n",
       "    </tr>\n",
       "    <tr>\n",
       "      <th>10</th>\n",
       "      <td>1</td>\n",
       "      <td>11</td>\n",
       "      <td>0.651194</td>\n",
       "      <td>0.792400</td>\n",
       "      <td>0.455569</td>\n",
       "      <td>1</td>\n",
       "      <td>1</td>\n",
       "      <td>1</td>\n",
       "    </tr>\n",
       "    <tr>\n",
       "      <th>11</th>\n",
       "      <td>1</td>\n",
       "      <td>12</td>\n",
       "      <td>0.867314</td>\n",
       "      <td>0.656611</td>\n",
       "      <td>0.262357</td>\n",
       "      <td>1</td>\n",
       "      <td>1</td>\n",
       "      <td>1</td>\n",
       "    </tr>\n",
       "    <tr>\n",
       "      <th>12</th>\n",
       "      <td>2</td>\n",
       "      <td>1</td>\n",
       "      <td>0.064487</td>\n",
       "      <td>0.423982</td>\n",
       "      <td>0.965103</td>\n",
       "      <td>0</td>\n",
       "      <td>1</td>\n",
       "      <td>0</td>\n",
       "    </tr>\n",
       "    <tr>\n",
       "      <th>13</th>\n",
       "      <td>2</td>\n",
       "      <td>2</td>\n",
       "      <td>0.278960</td>\n",
       "      <td>0.286983</td>\n",
       "      <td>0.656684</td>\n",
       "      <td>0</td>\n",
       "      <td>1</td>\n",
       "      <td>0</td>\n",
       "    </tr>\n",
       "    <tr>\n",
       "      <th>14</th>\n",
       "      <td>2</td>\n",
       "      <td>3</td>\n",
       "      <td>0.256167</td>\n",
       "      <td>0.560547</td>\n",
       "      <td>0.870347</td>\n",
       "      <td>1</td>\n",
       "      <td>0</td>\n",
       "      <td>0</td>\n",
       "    </tr>\n",
       "    <tr>\n",
       "      <th>15</th>\n",
       "      <td>2</td>\n",
       "      <td>4</td>\n",
       "      <td>0.072036</td>\n",
       "      <td>0.466416</td>\n",
       "      <td>0.829278</td>\n",
       "      <td>0</td>\n",
       "      <td>0</td>\n",
       "      <td>0</td>\n",
       "    </tr>\n",
       "    <tr>\n",
       "      <th>16</th>\n",
       "      <td>2</td>\n",
       "      <td>5</td>\n",
       "      <td>0.646570</td>\n",
       "      <td>0.137492</td>\n",
       "      <td>0.039011</td>\n",
       "      <td>0</td>\n",
       "      <td>0</td>\n",
       "      <td>0</td>\n",
       "    </tr>\n",
       "    <tr>\n",
       "      <th>17</th>\n",
       "      <td>2</td>\n",
       "      <td>6</td>\n",
       "      <td>0.816717</td>\n",
       "      <td>0.512266</td>\n",
       "      <td>0.080051</td>\n",
       "      <td>0</td>\n",
       "      <td>0</td>\n",
       "      <td>0</td>\n",
       "    </tr>\n",
       "    <tr>\n",
       "      <th>18</th>\n",
       "      <td>2</td>\n",
       "      <td>7</td>\n",
       "      <td>0.852445</td>\n",
       "      <td>0.155170</td>\n",
       "      <td>0.242862</td>\n",
       "      <td>0</td>\n",
       "      <td>0</td>\n",
       "      <td>0</td>\n",
       "    </tr>\n",
       "    <tr>\n",
       "      <th>19</th>\n",
       "      <td>2</td>\n",
       "      <td>8</td>\n",
       "      <td>0.813129</td>\n",
       "      <td>0.813260</td>\n",
       "      <td>0.106863</td>\n",
       "      <td>0</td>\n",
       "      <td>0</td>\n",
       "      <td>0</td>\n",
       "    </tr>\n",
       "    <tr>\n",
       "      <th>20</th>\n",
       "      <td>2</td>\n",
       "      <td>9</td>\n",
       "      <td>0.764595</td>\n",
       "      <td>0.485064</td>\n",
       "      <td>0.436722</td>\n",
       "      <td>0</td>\n",
       "      <td>1</td>\n",
       "      <td>0</td>\n",
       "    </tr>\n",
       "    <tr>\n",
       "      <th>21</th>\n",
       "      <td>2</td>\n",
       "      <td>10</td>\n",
       "      <td>0.938111</td>\n",
       "      <td>0.596495</td>\n",
       "      <td>0.073590</td>\n",
       "      <td>1</td>\n",
       "      <td>0</td>\n",
       "      <td>0</td>\n",
       "    </tr>\n",
       "    <tr>\n",
       "      <th>22</th>\n",
       "      <td>2</td>\n",
       "      <td>11</td>\n",
       "      <td>0.149711</td>\n",
       "      <td>0.795396</td>\n",
       "      <td>0.284213</td>\n",
       "      <td>1</td>\n",
       "      <td>0</td>\n",
       "      <td>0</td>\n",
       "    </tr>\n",
       "    <tr>\n",
       "      <th>23</th>\n",
       "      <td>2</td>\n",
       "      <td>12</td>\n",
       "      <td>0.659908</td>\n",
       "      <td>0.093868</td>\n",
       "      <td>0.791813</td>\n",
       "      <td>0</td>\n",
       "      <td>0</td>\n",
       "      <td>0</td>\n",
       "    </tr>\n",
       "  </tbody>\n",
       "</table>\n",
       "</div>"
      ],
      "text/plain": [
       "    id  time        x1        x2        x3  x4  x5  y\n",
       "0    1     1  0.345220  0.827250  0.737033   1   1  1\n",
       "1    1     2  0.802148  0.698895  0.528889   1   0  1\n",
       "2    1     3  0.170504  0.085219  0.404662   1   0  1\n",
       "3    1     4  0.427657  0.157935  0.495760   0   0  1\n",
       "4    1     5  0.745276  0.231196  0.577447   1   1  1\n",
       "5    1     6  0.175969  0.910015  0.444284   0   1  1\n",
       "6    1     7  0.114116  0.053240  0.711894   0   0  1\n",
       "7    1     8  0.999931  0.034291  0.830370   1   1  1\n",
       "8    1     9  0.237785  0.816266  0.841942   1   1  1\n",
       "9    1    10  0.171571  0.059315  0.829446   0   1  1\n",
       "10   1    11  0.651194  0.792400  0.455569   1   1  1\n",
       "11   1    12  0.867314  0.656611  0.262357   1   1  1\n",
       "12   2     1  0.064487  0.423982  0.965103   0   1  0\n",
       "13   2     2  0.278960  0.286983  0.656684   0   1  0\n",
       "14   2     3  0.256167  0.560547  0.870347   1   0  0\n",
       "15   2     4  0.072036  0.466416  0.829278   0   0  0\n",
       "16   2     5  0.646570  0.137492  0.039011   0   0  0\n",
       "17   2     6  0.816717  0.512266  0.080051   0   0  0\n",
       "18   2     7  0.852445  0.155170  0.242862   0   0  0\n",
       "19   2     8  0.813129  0.813260  0.106863   0   0  0\n",
       "20   2     9  0.764595  0.485064  0.436722   0   1  0\n",
       "21   2    10  0.938111  0.596495  0.073590   1   0  0\n",
       "22   2    11  0.149711  0.795396  0.284213   1   0  0\n",
       "23   2    12  0.659908  0.093868  0.791813   0   0  0"
      ]
     },
     "execution_count": 3,
     "metadata": {},
     "output_type": "execute_result"
    }
   ],
   "source": [
    "df.head(24)"
   ]
  },
  {
   "cell_type": "code",
   "execution_count": 4,
   "metadata": {},
   "outputs": [
    {
     "name": "stdout",
     "output_type": "stream",
     "text": [
      "0.11 rate of positive Y\n"
     ]
    }
   ],
   "source": [
    "y = df[['id','y']].groupby('id').max()\n",
    "df.pop('y')\n",
    "print(round(y.describe().y[1],3), \"rate of positive Y\")"
   ]
  },
  {
   "cell_type": "code",
   "execution_count": 5,
   "metadata": {},
   "outputs": [
    {
     "name": "stdout",
     "output_type": "stream",
     "text": [
      "(2688, 12, 5)\n"
     ]
    }
   ],
   "source": [
    "# create an empty 3D tensor of the size we need\n",
    "n_samples = df.id.nunique()\n",
    "n_timesteps = df.time.nunique()\n",
    "n_features = df.shape[1] - 2\n",
    "\n",
    "X = np.zeros((n_samples, n_timesteps, n_features)) \n",
    "print(X.shape)"
   ]
  },
  {
   "cell_type": "code",
   "execution_count": 6,
   "metadata": {},
   "outputs": [],
   "source": [
    "ids = df.id.unique()\n",
    "\n",
    "for i,value in enumerate(ids):\n",
    "    X[i] = df.loc[df['id'] == value].drop(['id','time'], axis=1).values"
   ]
  },
  {
   "cell_type": "code",
   "execution_count": 7,
   "metadata": {},
   "outputs": [
    {
     "name": "stderr",
     "output_type": "stream",
     "text": [
      "Using TensorFlow backend.\n"
     ]
    }
   ],
   "source": [
    "from keras.models import Sequential\n",
    "from keras.layers import Dense, GRU, Dropout"
   ]
  },
  {
   "cell_type": "code",
   "execution_count": 8,
   "metadata": {},
   "outputs": [],
   "source": [
    "model = Sequential()                                       \n",
    "model.add(GRU(128, return_sequences=True, input_shape=(n_timesteps, n_features)))\n",
    "model.add(GRU(128, input_shape=(n_timesteps, n_features)))\n",
    "model.add(Dense(1, activation='sigmoid'))"
   ]
  },
  {
   "cell_type": "code",
   "execution_count": 9,
   "metadata": {},
   "outputs": [],
   "source": [
    "model.compile(optimizer='adam',                             \n",
    "              loss='binary_crossentropy', \n",
    "              metrics=['accuracy'])"
   ]
  },
  {
   "cell_type": "code",
   "execution_count": 10,
   "metadata": {},
   "outputs": [
    {
     "name": "stdout",
     "output_type": "stream",
     "text": [
      "Train on 2150 samples, validate on 538 samples\n",
      "Epoch 1/20\n",
      "2150/2150 [==============================] - 3s 1ms/step - loss: 0.3547 - acc: 0.8902 - val_loss: 0.2954 - val_acc: 0.8848\n",
      "Epoch 2/20\n",
      "2150/2150 [==============================] - 3s 1ms/step - loss: 0.2651 - acc: 0.8874 - val_loss: 0.2411 - val_acc: 0.9033\n",
      "Epoch 3/20\n",
      "2150/2150 [==============================] - 3s 1ms/step - loss: 0.2422 - acc: 0.8912 - val_loss: 0.2256 - val_acc: 0.9145\n",
      "Epoch 4/20\n",
      "2150/2150 [==============================] - 3s 1ms/step - loss: 0.1903 - acc: 0.9084 - val_loss: 0.1621 - val_acc: 0.9238\n",
      "Epoch 5/20\n",
      "2150/2150 [==============================] - 3s 1ms/step - loss: 0.1420 - acc: 0.9353 - val_loss: 0.1414 - val_acc: 0.9442\n",
      "Epoch 6/20\n",
      "2150/2150 [==============================] - 3s 1ms/step - loss: 0.1141 - acc: 0.9512 - val_loss: 0.1296 - val_acc: 0.9405\n",
      "Epoch 7/20\n",
      "2150/2150 [==============================] - 3s 1ms/step - loss: 0.1168 - acc: 0.9488 - val_loss: 0.1264 - val_acc: 0.9461\n",
      "Epoch 8/20\n",
      "2150/2150 [==============================] - 3s 1ms/step - loss: 0.0953 - acc: 0.9591 - val_loss: 0.1276 - val_acc: 0.9442\n",
      "Epoch 9/20\n",
      "2150/2150 [==============================] - 3s 1ms/step - loss: 0.0836 - acc: 0.9614 - val_loss: 0.1103 - val_acc: 0.9554\n",
      "Epoch 10/20\n",
      "2150/2150 [==============================] - 3s 1ms/step - loss: 0.0920 - acc: 0.9595 - val_loss: 0.1216 - val_acc: 0.9535\n",
      "Epoch 11/20\n",
      "2150/2150 [==============================] - 3s 1ms/step - loss: 0.0796 - acc: 0.9637 - val_loss: 0.1044 - val_acc: 0.9554\n",
      "Epoch 12/20\n",
      "2150/2150 [==============================] - 3s 1ms/step - loss: 0.0742 - acc: 0.9721 - val_loss: 0.1138 - val_acc: 0.9610\n",
      "Epoch 13/20\n",
      "2150/2150 [==============================] - 3s 1ms/step - loss: 0.0599 - acc: 0.9749 - val_loss: 0.1080 - val_acc: 0.9572\n",
      "Epoch 14/20\n",
      "2150/2150 [==============================] - 3s 1ms/step - loss: 0.0621 - acc: 0.9753 - val_loss: 0.1117 - val_acc: 0.9591\n",
      "Epoch 15/20\n",
      "2150/2150 [==============================] - 3s 1ms/step - loss: 0.0532 - acc: 0.9772 - val_loss: 0.0873 - val_acc: 0.9647\n",
      "Epoch 16/20\n",
      "2150/2150 [==============================] - 3s 1ms/step - loss: 0.0448 - acc: 0.9833 - val_loss: 0.1261 - val_acc: 0.9480\n",
      "Epoch 17/20\n",
      "2150/2150 [==============================] - 3s 1ms/step - loss: 0.0644 - acc: 0.9726 - val_loss: 0.0819 - val_acc: 0.9591\n",
      "Epoch 18/20\n",
      "2150/2150 [==============================] - 3s 1ms/step - loss: 0.0454 - acc: 0.9819 - val_loss: 0.1341 - val_acc: 0.9424\n",
      "Epoch 19/20\n",
      "2150/2150 [==============================] - 3s 1ms/step - loss: 0.0462 - acc: 0.9819 - val_loss: 0.1375 - val_acc: 0.9554\n",
      "Epoch 20/20\n",
      "2150/2150 [==============================] - 3s 1ms/step - loss: 0.0446 - acc: 0.9814 - val_loss: 0.0818 - val_acc: 0.9628\n"
     ]
    },
    {
     "data": {
      "text/plain": [
       "<keras.callbacks.History at 0x1206d65f8>"
      ]
     },
     "execution_count": 10,
     "metadata": {},
     "output_type": "execute_result"
    }
   ],
   "source": [
    "model.fit(X,                                          \n",
    "          y, \n",
    "          shuffle=True,\n",
    "          epochs=20, \n",
    "          batch_size=32,\n",
    "          validation_split=0.2)"
   ]
  },
  {
   "cell_type": "markdown",
   "metadata": {},
   "source": [
    "Now experimenting with an incomplete dataset. \n",
    "Here I'm simulating half of the dataset's IDs only containing inputs for the most recent 3 months. These sequences are padding so the missing values are filled with zeros."
   ]
  },
  {
   "cell_type": "code",
   "execution_count": 11,
   "metadata": {},
   "outputs": [],
   "source": [
    "df_ = pd.read_csv(\"gen_time_data.csv\")"
   ]
  },
  {
   "cell_type": "code",
   "execution_count": 12,
   "metadata": {},
   "outputs": [
    {
     "data": {
      "text/plain": [
       "1"
      ]
     },
     "execution_count": 12,
     "metadata": {},
     "output_type": "execute_result"
    }
   ],
   "source": [
    "y_ = df_[['id','y']].groupby('id').max()\n",
    "df_.pop('y')\n",
    "1"
   ]
  },
  {
   "cell_type": "code",
   "execution_count": 13,
   "metadata": {},
   "outputs": [],
   "source": [
    "df_1 = df_.iloc[:int((n_samples/2)), :]\n",
    "df_2 = df_.iloc[int((n_samples/2)):, :]\n",
    "\n",
    "df_1 = df_1[(df_1['time'] == 10) | (df_1['time'] == 11) | (df_1['time'] == 12)]\n",
    "df_ = pd.concat([df_1, df_2])"
   ]
  },
  {
   "cell_type": "code",
   "execution_count": 14,
   "metadata": {},
   "outputs": [
    {
     "data": {
      "text/plain": [
       "(31248, 7)"
      ]
     },
     "execution_count": 14,
     "metadata": {},
     "output_type": "execute_result"
    }
   ],
   "source": [
    "df_.shape"
   ]
  },
  {
   "cell_type": "code",
   "execution_count": 15,
   "metadata": {},
   "outputs": [
    {
     "name": "stdout",
     "output_type": "stream",
     "text": [
      "(2688, 12, 5)\n"
     ]
    }
   ],
   "source": [
    "X_ = np.zeros((n_samples, n_timesteps, n_features)) \n",
    "print(X_.shape)"
   ]
  },
  {
   "cell_type": "code",
   "execution_count": 16,
   "metadata": {},
   "outputs": [],
   "source": [
    "from keras.preprocessing.sequence import pad_sequences\n",
    "\n",
    "ids = df_.id.unique()\n",
    "\n",
    "for i,value in enumerate(ids):\n",
    "    seq = df_.loc[df_['id'] == value].drop(['id','time'], axis=1).values.T\n",
    "    padded_seq = pad_sequences(seq, 12, dtype='float32').T\n",
    "    X_[i] = padded_seq"
   ]
  },
  {
   "cell_type": "code",
   "execution_count": 17,
   "metadata": {},
   "outputs": [],
   "source": [
    "model = Sequential()                                       \n",
    "model.add(GRU(128, return_sequences=True, input_shape=(n_timesteps, n_features)))\n",
    "model.add(GRU(128, input_shape=(n_timesteps, n_features)))\n",
    "model.add(Dense(1, activation='sigmoid'))"
   ]
  },
  {
   "cell_type": "code",
   "execution_count": 18,
   "metadata": {},
   "outputs": [],
   "source": [
    "model.compile(optimizer='adam',                             \n",
    "              loss='binary_crossentropy', \n",
    "              metrics=['accuracy'])"
   ]
  },
  {
   "cell_type": "code",
   "execution_count": 19,
   "metadata": {},
   "outputs": [
    {
     "name": "stdout",
     "output_type": "stream",
     "text": [
      "Train on 2150 samples, validate on 538 samples\n",
      "Epoch 1/20\n",
      "2150/2150 [==============================] - 3s 1ms/step - loss: 0.3403 - acc: 0.8912 - val_loss: 0.2713 - val_acc: 0.8866\n",
      "Epoch 2/20\n",
      "2150/2150 [==============================] - 3s 1ms/step - loss: 0.2573 - acc: 0.8935 - val_loss: 0.2698 - val_acc: 0.9071\n",
      "Epoch 3/20\n",
      "2150/2150 [==============================] - 3s 1ms/step - loss: 0.2184 - acc: 0.8991 - val_loss: 0.2091 - val_acc: 0.9108\n",
      "Epoch 4/20\n",
      "2150/2150 [==============================] - 3s 1ms/step - loss: 0.1485 - acc: 0.9395 - val_loss: 0.1640 - val_acc: 0.9349\n",
      "Epoch 5/20\n",
      "2150/2150 [==============================] - 3s 1ms/step - loss: 0.1368 - acc: 0.9423 - val_loss: 0.1628 - val_acc: 0.9405\n",
      "Epoch 6/20\n",
      "2150/2150 [==============================] - 3s 1ms/step - loss: 0.1251 - acc: 0.9372 - val_loss: 0.1526 - val_acc: 0.9275\n",
      "Epoch 7/20\n",
      "2150/2150 [==============================] - 3s 1ms/step - loss: 0.1128 - acc: 0.9484 - val_loss: 0.1546 - val_acc: 0.9442\n",
      "Epoch 8/20\n",
      "2150/2150 [==============================] - 3s 1ms/step - loss: 0.1076 - acc: 0.9498 - val_loss: 0.1284 - val_acc: 0.9442\n",
      "Epoch 9/20\n",
      "2150/2150 [==============================] - 3s 1ms/step - loss: 0.0986 - acc: 0.9535 - val_loss: 0.1474 - val_acc: 0.9257\n",
      "Epoch 10/20\n",
      "2150/2150 [==============================] - 3s 1ms/step - loss: 0.1032 - acc: 0.9512 - val_loss: 0.1131 - val_acc: 0.9498\n",
      "Epoch 11/20\n",
      "2150/2150 [==============================] - 3s 1ms/step - loss: 0.0925 - acc: 0.9623 - val_loss: 0.1326 - val_acc: 0.9480\n",
      "Epoch 12/20\n",
      "2150/2150 [==============================] - 3s 1ms/step - loss: 0.0926 - acc: 0.9628 - val_loss: 0.1353 - val_acc: 0.9349\n",
      "Epoch 13/20\n",
      "2150/2150 [==============================] - 3s 1ms/step - loss: 0.0877 - acc: 0.9647 - val_loss: 0.1093 - val_acc: 0.9591\n",
      "Epoch 14/20\n",
      "2150/2150 [==============================] - 3s 1ms/step - loss: 0.0793 - acc: 0.9660 - val_loss: 0.1152 - val_acc: 0.9535\n",
      "Epoch 15/20\n",
      "2150/2150 [==============================] - 3s 1ms/step - loss: 0.0644 - acc: 0.9712 - val_loss: 0.1107 - val_acc: 0.9535\n",
      "Epoch 16/20\n",
      "2150/2150 [==============================] - 3s 1ms/step - loss: 0.0728 - acc: 0.9679 - val_loss: 0.1459 - val_acc: 0.9387\n",
      "Epoch 17/20\n",
      "2150/2150 [==============================] - 3s 1ms/step - loss: 0.0703 - acc: 0.9707 - val_loss: 0.1074 - val_acc: 0.9591\n",
      "Epoch 18/20\n",
      "2150/2150 [==============================] - 3s 1ms/step - loss: 0.0592 - acc: 0.9726 - val_loss: 0.0961 - val_acc: 0.9684\n",
      "Epoch 19/20\n",
      "2150/2150 [==============================] - 3s 1ms/step - loss: 0.0443 - acc: 0.9847 - val_loss: 0.0976 - val_acc: 0.9628\n",
      "Epoch 20/20\n",
      "2150/2150 [==============================] - 3s 1ms/step - loss: 0.0487 - acc: 0.9800 - val_loss: 0.1117 - val_acc: 0.9480\n"
     ]
    },
    {
     "data": {
      "text/plain": [
       "<keras.callbacks.History at 0x1232fb6a0>"
      ]
     },
     "execution_count": 19,
     "metadata": {},
     "output_type": "execute_result"
    }
   ],
   "source": [
    "model.fit(X_,                                          \n",
    "          y_, \n",
    "          shuffle=True,\n",
    "          epochs=20, \n",
    "          batch_size=32,\n",
    "          validation_split=0.2)"
   ]
  }
 ],
 "metadata": {
  "kernelspec": {
   "display_name": "Python 3",
   "language": "python",
   "name": "python3"
  },
  "language_info": {
   "codemirror_mode": {
    "name": "ipython",
    "version": 3
   },
   "file_extension": ".py",
   "mimetype": "text/x-python",
   "name": "python",
   "nbconvert_exporter": "python",
   "pygments_lexer": "ipython3",
   "version": "3.6.5"
  }
 },
 "nbformat": 4,
 "nbformat_minor": 2
}
